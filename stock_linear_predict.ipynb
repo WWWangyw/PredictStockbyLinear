{
 "cells": [
  {
   "cell_type": "code",
   "execution_count": 79,
   "id": "c2050f42",
   "metadata": {},
   "outputs": [],
   "source": [
    "import pandas_datareader.data as web\n",
    "import datetime"
   ]
  },
  {
   "cell_type": "code",
   "execution_count": 80,
   "id": "fd74760c",
   "metadata": {},
   "outputs": [
    {
     "name": "stdout",
     "output_type": "stream",
     "text": [
      "                 Open      High        Low      Close       Volume\n",
      "Date                                                              \n",
      "2004-08-19    2.50000    2.6015    2.39900    2.50850  894076000.0\n",
      "2004-08-20    2.52525    2.7270    2.51250    2.70775  457144000.0\n",
      "2004-08-23    2.76875    2.8370    2.72625    2.73500  365488000.0\n",
      "2004-08-24    2.78100    2.7900    2.58925    2.62175  305252000.0\n",
      "2004-08-25    2.62400    2.7000    2.59700    2.65000  183956000.0\n",
      "...               ...       ...        ...        ...          ...\n",
      "2021-07-26  133.32800  134.2370  132.30200  134.03500   30571480.0\n",
      "2021-07-27  134.25100  134.3990  130.10400  131.90000   54709480.0\n",
      "2021-07-28  136.31200  138.2970  135.27800  136.09400   95130600.0\n",
      "2021-07-29  136.15000  136.6610  135.54300  135.77800   31715720.0\n",
      "2021-07-30  135.03500  135.3050  134.25500  134.72700   25575780.0\n",
      "\n",
      "[4266 rows x 5 columns]\n"
     ]
    }
   ],
   "source": [
    "start=datetime.datetime(2000,1,1)\n",
    "end=datetime.datetime(2021,8,1)\n",
    "df=web.DataReader('GOOGL','stooq',start,end)\n",
    "df.sort_index(inplace=True,ascending=True)  #倒序排  ascending=True(缺省):2004->2021;ascending=False:2021->2004\n",
    "df.dropna(inplace=True)  #删掉表中空值\n",
    "print(df)"
   ]
  },
  {
   "cell_type": "code",
   "execution_count": 81,
   "id": "00bf6694",
   "metadata": {},
   "outputs": [
    {
     "name": "stdout",
     "output_type": "stream",
     "text": [
      "                 Open      High        Low      Close       Volume    label\n",
      "Date                                                                       \n",
      "2004-08-19    2.50000    2.6015    2.39900    2.50850  894076000.0  4.62550\n",
      "2004-08-20    2.52525    2.7270    2.51250    2.70775  457144000.0  4.59375\n",
      "2004-08-23    2.76875    2.8370    2.72625    2.73500  365488000.0  4.65750\n",
      "2004-08-24    2.78100    2.7900    2.58925    2.62175  305252000.0  4.69750\n",
      "2004-08-25    2.62400    2.7000    2.59700    2.65000  183956000.0  4.79775\n",
      "...               ...       ...        ...        ...          ...      ...\n",
      "2021-07-26  133.32800  134.2370  132.30200  134.03500   30571480.0      NaN\n",
      "2021-07-27  134.25100  134.3990  130.10400  131.90000   54709480.0      NaN\n",
      "2021-07-28  136.31200  138.2970  135.27800  136.09400   95130600.0      NaN\n",
      "2021-07-29  136.15000  136.6610  135.54300  135.77800   31715720.0      NaN\n",
      "2021-07-30  135.03500  135.3050  134.25500  134.72700   25575780.0      NaN\n",
      "\n",
      "[4266 rows x 6 columns]\n"
     ]
    }
   ],
   "source": [
    "#predict_day=30  #预测未来30天\n",
    "predict_day=int(len(df)*0.02)  #若取2%比例做预测\n",
    "df['label']=df['Close'].shift(-predict_day)  #标签设为该天30天后的收盘值\n",
    "print(df)"
   ]
  },
  {
   "cell_type": "code",
   "execution_count": 82,
   "id": "8422c5f1",
   "metadata": {},
   "outputs": [
    {
     "name": "stdout",
     "output_type": "stream",
     "text": [
      "Date\n",
      "2004-08-19      4.62550\n",
      "2004-08-20      4.59375\n",
      "2004-08-23      4.65750\n",
      "2004-08-24      4.69750\n",
      "2004-08-25      4.79775\n",
      "                ...    \n",
      "2021-03-24    134.03500\n",
      "2021-03-25    131.90000\n",
      "2021-03-26    136.09400\n",
      "2021-03-29    135.77800\n",
      "2021-03-30    134.72700\n",
      "Name: label, Length: 4181, dtype: float64\n"
     ]
    }
   ],
   "source": [
    "X=df.drop(['label'],axis=1) #向量特征空间\n",
    "y=df['label'][:-predict_day]\n",
    "print(y)"
   ]
  },
  {
   "cell_type": "code",
   "execution_count": 83,
   "id": "d0147f36",
   "metadata": {},
   "outputs": [
    {
     "name": "stdout",
     "output_type": "stream",
     "text": [
      "[[-1.1140543  -1.11091672 -1.11611021 -1.11282649  4.88681361]\n",
      " [-1.11305331 -1.10598912 -1.11156992 -1.10493532  2.08445633]\n",
      " [-1.10340022 -1.10167011 -1.10301937 -1.10385611  1.49660087]\n",
      " ...\n",
      " [ 4.19066998  4.21699299  4.19938843  4.17773734 -0.23739441]\n",
      " [ 4.1842478   4.15275755  4.2099891   4.16522237 -0.64411937]\n",
      " [ 4.14004573  4.09951595  4.15846582  4.12359822 -0.6834992 ]]\n"
     ]
    }
   ],
   "source": [
    "#标准化转化\n",
    "from sklearn.preprocessing import StandardScaler\n",
    "\n",
    "scale=StandardScaler()\n",
    "scale.fit(X)#拟合\n",
    "X=scale.transform(X) #转换\n",
    "print(X)"
   ]
  },
  {
   "cell_type": "code",
   "execution_count": 84,
   "id": "7f3422b4",
   "metadata": {},
   "outputs": [
    {
     "name": "stdout",
     "output_type": "stream",
     "text": [
      "4181\n",
      "85\n"
     ]
    }
   ],
   "source": [
    "X_lately=X[-predict_day:]\n",
    "X=X[:-predict_day] \n",
    "print(len(X))\n",
    "print(len(X_lately))"
   ]
  },
  {
   "cell_type": "code",
   "execution_count": 85,
   "id": "b6d61005",
   "metadata": {},
   "outputs": [
    {
     "name": "stdout",
     "output_type": "stream",
     "text": [
      "3344\n",
      "3344\n"
     ]
    }
   ],
   "source": [
    "#划分训练集与测试集\n",
    "from sklearn.model_selection import train_test_split\n",
    "\n",
    "x_train,x_test,y_train,y_test=train_test_split(X,y,test_size=0.2) #20%的数据用作测试\n",
    "print(len(x_train))\n",
    "print(len(y_train))"
   ]
  },
  {
   "cell_type": "code",
   "execution_count": 86,
   "id": "dca59baa",
   "metadata": {},
   "outputs": [
    {
     "data": {
      "text/plain": [
       "0.9657281116827983"
      ]
     },
     "execution_count": 86,
     "metadata": {},
     "output_type": "execute_result"
    }
   ],
   "source": [
    "from sklearn.linear_model import LinearRegression\n",
    "model=LinearRegression()\n",
    "model.fit(x_train,y_train)  #拟合，此时线性回归模型生成\n",
    "#性能上的测试\n",
    "model.score(x_test,y_test)  #准确率"
   ]
  },
  {
   "cell_type": "code",
   "execution_count": 87,
   "id": "0431e01e",
   "metadata": {},
   "outputs": [
    {
     "name": "stdout",
     "output_type": "stream",
     "text": [
      "[115.07622311 118.73509739 129.41805307 120.73484424 122.63404682\n",
      " 123.23733307 124.88687361 122.50515685 121.88765274 123.1945553\n",
      " 127.13483199 123.77810518 126.08818702 126.33821484 124.72937025\n",
      " 126.67954587 127.802402   126.09281358 126.03839666 138.21265332\n",
      " 130.71287791 129.98711148 131.31127502 131.39374479 126.32412826\n",
      " 129.33498253 128.06367408 128.4701632  126.55685113 125.28696117\n",
      " 122.23811487 125.13842929 125.39523898 127.06211033 126.88861275\n",
      " 125.7075732  125.73991705 132.30425771 129.3009867  128.99126449\n",
      " 129.85851571 127.99069585 129.88198047 131.30732192 127.77690147\n",
      " 131.53233568 129.91303701 130.56831932 129.1373171  132.95731914\n",
      " 131.5061193  133.30237096 133.68005031 134.62327925 134.76115014\n",
      " 132.05232508 134.45072876 132.63208238 133.08016964 131.61087511\n",
      " 132.1681953  132.96888408 133.04878551 131.2075307  132.12966644\n",
      " 138.93763384 138.27153031 136.98618116 136.8214789  135.76074718\n",
      " 137.98581625 138.74949879 140.19816125 141.02990552 138.93751619\n",
      " 139.80884883 141.24603327 139.02624623 138.17139685 150.93538244\n",
      " 146.87450658 152.59873425 154.00696495 147.04143914 145.40776903]\n",
      "85\n"
     ]
    }
   ],
   "source": [
    "#预测出30个数据 预测样本空间：X_lately\n",
    "predict=model.predict(X_lately)\n",
    "print(predict)\n",
    "print(len(predict))"
   ]
  },
  {
   "cell_type": "code",
   "execution_count": null,
   "id": "979db033",
   "metadata": {},
   "outputs": [],
   "source": []
  },
  {
   "cell_type": "code",
   "execution_count": 88,
   "id": "b83eced7",
   "metadata": {},
   "outputs": [
    {
     "name": "stdout",
     "output_type": "stream",
     "text": [
      "                 Open      High        Low      Close       Volume    label  \\\n",
      "Date                                                                          \n",
      "2004-08-19    2.50000    2.6015    2.39900    2.50850  894076000.0  4.62550   \n",
      "2004-08-20    2.52525    2.7270    2.51250    2.70775  457144000.0  4.59375   \n",
      "2004-08-23    2.76875    2.8370    2.72625    2.73500  365488000.0  4.65750   \n",
      "2004-08-24    2.78100    2.7900    2.58925    2.62175  305252000.0  4.69750   \n",
      "2004-08-25    2.62400    2.7000    2.59700    2.65000  183956000.0  4.79775   \n",
      "...               ...       ...        ...        ...          ...      ...   \n",
      "2021-07-26  133.32800  134.2370  132.30200  134.03500   30571480.0      NaN   \n",
      "2021-07-27  134.25100  134.3990  130.10400  131.90000   54709480.0      NaN   \n",
      "2021-07-28  136.31200  138.2970  135.27800  136.09400   95130600.0      NaN   \n",
      "2021-07-29  136.15000  136.6610  135.54300  135.77800   31715720.0      NaN   \n",
      "2021-07-30  135.03500  135.3050  134.25500  134.72700   25575780.0      NaN   \n",
      "\n",
      "            predict  \n",
      "Date                 \n",
      "2004-08-19      NaN  \n",
      "2004-08-20      NaN  \n",
      "2004-08-23      NaN  \n",
      "2004-08-24      NaN  \n",
      "2004-08-25      NaN  \n",
      "...             ...  \n",
      "2021-07-26      NaN  \n",
      "2021-07-27      NaN  \n",
      "2021-07-28      NaN  \n",
      "2021-07-29      NaN  \n",
      "2021-07-30      NaN  \n",
      "\n",
      "[4266 rows x 7 columns]\n"
     ]
    }
   ],
   "source": [
    "import numpy as np  \n",
    "df['predict']=np.nan  #增加一列空值，做预测\n",
    "print(df)"
   ]
  },
  {
   "cell_type": "code",
   "execution_count": 89,
   "id": "9044669d",
   "metadata": {},
   "outputs": [
    {
     "name": "stdout",
     "output_type": "stream",
     "text": [
      "2021-07-30 00:00:00\n",
      "2021-07-31 08:00:00\n",
      "                     Open  High  Low  Close  Volume  label     predict\n",
      "Date                                                                  \n",
      "2021-09-14 08:00:00   NaN   NaN  NaN    NaN     NaN    NaN  131.532336\n",
      "2021-09-15 08:00:00   NaN   NaN  NaN    NaN     NaN    NaN  129.913037\n",
      "2021-09-16 08:00:00   NaN   NaN  NaN    NaN     NaN    NaN  130.568319\n",
      "2021-09-17 08:00:00   NaN   NaN  NaN    NaN     NaN    NaN  129.137317\n",
      "2021-09-18 08:00:00   NaN   NaN  NaN    NaN     NaN    NaN  132.957319\n",
      "2021-09-19 08:00:00   NaN   NaN  NaN    NaN     NaN    NaN  131.506119\n",
      "2021-09-20 08:00:00   NaN   NaN  NaN    NaN     NaN    NaN  133.302371\n",
      "2021-09-21 08:00:00   NaN   NaN  NaN    NaN     NaN    NaN  133.680050\n",
      "2021-09-22 08:00:00   NaN   NaN  NaN    NaN     NaN    NaN  134.623279\n",
      "2021-09-23 08:00:00   NaN   NaN  NaN    NaN     NaN    NaN  134.761150\n",
      "2021-09-24 08:00:00   NaN   NaN  NaN    NaN     NaN    NaN  132.052325\n",
      "2021-09-25 08:00:00   NaN   NaN  NaN    NaN     NaN    NaN  134.450729\n",
      "2021-09-26 08:00:00   NaN   NaN  NaN    NaN     NaN    NaN  132.632082\n",
      "2021-09-27 08:00:00   NaN   NaN  NaN    NaN     NaN    NaN  133.080170\n",
      "2021-09-28 08:00:00   NaN   NaN  NaN    NaN     NaN    NaN  131.610875\n",
      "2021-09-29 08:00:00   NaN   NaN  NaN    NaN     NaN    NaN  132.168195\n",
      "2021-09-30 08:00:00   NaN   NaN  NaN    NaN     NaN    NaN  132.968884\n",
      "2021-10-01 08:00:00   NaN   NaN  NaN    NaN     NaN    NaN  133.048786\n",
      "2021-10-02 08:00:00   NaN   NaN  NaN    NaN     NaN    NaN  131.207531\n",
      "2021-10-03 08:00:00   NaN   NaN  NaN    NaN     NaN    NaN  132.129666\n",
      "2021-10-04 08:00:00   NaN   NaN  NaN    NaN     NaN    NaN  138.937634\n",
      "2021-10-05 08:00:00   NaN   NaN  NaN    NaN     NaN    NaN  138.271530\n",
      "2021-10-06 08:00:00   NaN   NaN  NaN    NaN     NaN    NaN  136.986181\n",
      "2021-10-07 08:00:00   NaN   NaN  NaN    NaN     NaN    NaN  136.821479\n",
      "2021-10-08 08:00:00   NaN   NaN  NaN    NaN     NaN    NaN  135.760747\n",
      "2021-10-09 08:00:00   NaN   NaN  NaN    NaN     NaN    NaN  137.985816\n",
      "2021-10-10 08:00:00   NaN   NaN  NaN    NaN     NaN    NaN  138.749499\n",
      "2021-10-11 08:00:00   NaN   NaN  NaN    NaN     NaN    NaN  140.198161\n",
      "2021-10-12 08:00:00   NaN   NaN  NaN    NaN     NaN    NaN  141.029906\n",
      "2021-10-13 08:00:00   NaN   NaN  NaN    NaN     NaN    NaN  138.937516\n",
      "2021-10-14 08:00:00   NaN   NaN  NaN    NaN     NaN    NaN  139.808849\n",
      "2021-10-15 08:00:00   NaN   NaN  NaN    NaN     NaN    NaN  141.246033\n",
      "2021-10-16 08:00:00   NaN   NaN  NaN    NaN     NaN    NaN  139.026246\n",
      "2021-10-17 08:00:00   NaN   NaN  NaN    NaN     NaN    NaN  138.171397\n",
      "2021-10-18 08:00:00   NaN   NaN  NaN    NaN     NaN    NaN  150.935382\n",
      "2021-10-19 08:00:00   NaN   NaN  NaN    NaN     NaN    NaN  146.874507\n",
      "2021-10-20 08:00:00   NaN   NaN  NaN    NaN     NaN    NaN  152.598734\n",
      "2021-10-21 08:00:00   NaN   NaN  NaN    NaN     NaN    NaN  154.006965\n",
      "2021-10-22 08:00:00   NaN   NaN  NaN    NaN     NaN    NaN  147.041439\n",
      "2021-10-23 08:00:00   NaN   NaN  NaN    NaN     NaN    NaN  145.407769\n"
     ]
    }
   ],
   "source": [
    "#取出最后一天时间\n",
    "import datetime\n",
    "print(df.index[-1])\n",
    "#取出最后一天秒数\n",
    "last_date_st=df.index[-1].timestamp()\n",
    "next_date_st=last_date_st+86400  #一天是86400秒，下一天时间是last_date_st+86400\n",
    "next_date=datetime.datetime.fromtimestamp(next_date_st)\n",
    "print(next_date)\n",
    "\n",
    "#逐一导入30个数\n",
    "for i in predict:\n",
    "    next_date=datetime.datetime.fromtimestamp(next_date_st)\n",
    "    df.loc[next_date]=[np.nan for _ in range(len(df.columns)-1)]+[i]\n",
    "    next_date_st+=86400\n",
    "    \n",
    "print(df.tail(40))"
   ]
  },
  {
   "cell_type": "code",
   "execution_count": null,
   "id": "0cf00cad",
   "metadata": {},
   "outputs": [],
   "source": []
  },
  {
   "cell_type": "code",
   "execution_count": null,
   "id": "decfc689",
   "metadata": {},
   "outputs": [],
   "source": []
  },
  {
   "cell_type": "code",
   "execution_count": 90,
   "id": "d1e88ad0",
   "metadata": {},
   "outputs": [
    {
     "data": {
      "image/png": "[encoded data removed]",
      "text/plain": [
       "<Figure size 432x288 with 1 Axes>"
      ]
     },
     "metadata": {},
     "output_type": "display_data"
    }
   ],
   "source": [
    "#画图\n",
    "import matplotlib.pyplot as plt\n",
    "import matplotlib.style as style\n",
    "style.use('ggplot')\n",
    "df['Close'].plot()  #收盘价曲线\n",
    "df['predict'].plot()\n",
    "plt.show()"
   ]
  },
  {
   "cell_type": "code",
   "execution_count": null,
   "id": "220f0057",
   "metadata": {},
   "outputs": [],
   "source": []
  }
 ],
 "metadata": {
  "kernelspec": {
   "display_name": "Python 3",
   "language": "python",
   "name": "python3"
  },
  "language_info": {
   "codemirror_mode": {
    "name": "ipython",
    "version": 3
   },
   "file_extension": ".py",
   "mimetype": "text/x-python",
   "name": "python",
   "nbconvert_exporter": "python",
   "pygments_lexer": "ipython3",
   "version": "3.8.8"
  }
 },
 "nbformat": 4,
 "nbformat_minor": 5
}
